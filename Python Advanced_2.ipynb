{
 "cells": [
  {
   "cell_type": "code",
   "execution_count": null,
   "id": "3f3e68ed-5d74-4ce5-b6af-1410ef3bb703",
   "metadata": {},
   "outputs": [],
   "source": [
    "Q1. What is the relationship between classes and modules?"
   ]
  },
  {
   "cell_type": "code",
   "execution_count": null,
   "id": "79d18827-7ae8-4c2b-8013-5fa8fb7457b9",
   "metadata": {},
   "outputs": [],
   "source": [
    "Classes provide a way to group related code together. They also provide a way to create objects that can be used in other parts of your code. Modules can provide a way to reuse code, but they do not provide a way to create objects."
   ]
  },
  {
   "cell_type": "code",
   "execution_count": null,
   "id": "2b77ab2c-80e0-4ea8-95e8-b27d8aecdb40",
   "metadata": {},
   "outputs": [],
   "source": [
    "Q2. How do you make instances and classes?"
   ]
  },
  {
   "cell_type": "code",
   "execution_count": null,
   "id": "34605301-c5e8-4fe6-bc3f-4c9b6ce28df0",
   "metadata": {},
   "outputs": [],
   "source": [
    "Call the class using class name and pass in whatever arguments its __init__ method accepts."
   ]
  },
  {
   "cell_type": "code",
   "execution_count": null,
   "id": "d5434afc-ad8f-40e8-aff0-468bc8f25d50",
   "metadata": {},
   "outputs": [],
   "source": [
    "Q3. Where and how should be class attributes created?"
   ]
  },
  {
   "cell_type": "code",
   "execution_count": null,
   "id": "4a51be7a-3bc3-4f4c-aace-216be23862ef",
   "metadata": {},
   "outputs": [],
   "source": [
    "Q4. Where and how are instance attributes created?"
   ]
  },
  {
   "cell_type": "code",
   "execution_count": null,
   "id": "19052aa0-ca95-4557-b5c9-73437768b962",
   "metadata": {},
   "outputs": [],
   "source": [
    "Class attributes belong to the class itself they will be shared by all the instances. Such attributes are defined in the class body parts usually at the top, for legibility."
   ]
  },
  {
   "cell_type": "code",
   "execution_count": null,
   "id": "6b811aa7-d98a-432a-985c-93fbf6d4a477",
   "metadata": {},
   "outputs": [],
   "source": [
    "we create the class itself and give it a name ClassName. Next, we add some instance attributes which are usually defined inside a method called the constructor method."
   ]
  },
  {
   "cell_type": "code",
   "execution_count": null,
   "id": "6abccf2c-3c47-4bfc-a2d4-d1b82557c38a",
   "metadata": {},
   "outputs": [],
   "source": [
    "constructor function, __init__(self,..) of the class"
   ]
  },
  {
   "cell_type": "code",
   "execution_count": null,
   "id": "07b96121-6c8c-4d61-987e-dffda3247231",
   "metadata": {},
   "outputs": [],
   "source": [
    "Q5. What does the term &quot;self&quot; in a Python class mean?"
   ]
  },
  {
   "cell_type": "code",
   "execution_count": null,
   "id": "d5b14a61-763b-4f85-b358-4eab4e0fc877",
   "metadata": {},
   "outputs": [],
   "source": [
    "What is SELF in Python? SELF represents the instance of class. This handy keyword allows you to access variables, attributes, and methods of a defined class in Python. The self parameter doesn't have to be named “self,” as you can call it by any other name."
   ]
  },
  {
   "cell_type": "code",
   "execution_count": null,
   "id": "5ef39886-b274-4dcf-b71d-e3bf02fbb41c",
   "metadata": {},
   "outputs": [],
   "source": [
    "While giving the definition for an __init__(self) method, a default parameter, named 'self' is always passed in its argument. This self represents the object of the class itself."
   ]
  },
  {
   "cell_type": "code",
   "execution_count": null,
   "id": "861bdf78-201a-445a-8aa4-2e6118211d1e",
   "metadata": {},
   "outputs": [],
   "source": [
    "Q6. How does a Python class handle operator overloading?"
   ]
  },
  {
   "cell_type": "code",
   "execution_count": null,
   "id": "9b9872e9-20d2-40dc-8846-ac85b432bda1",
   "metadata": {},
   "outputs": [],
   "source": [
    "Python provides some special function or magic function that is automatically invoked when it is associated with that particular operator. For example, when we use + operator, the magic method __add__ is automatically invoked in which the operation for + operator is defined."
   ]
  },
  {
   "cell_type": "code",
   "execution_count": null,
   "id": "29d70ae9-c7a0-4eb2-8a24-e83f1fed59c5",
   "metadata": {},
   "outputs": [],
   "source": [
    "Q7. When do you consider allowing operator overloading of your classes?"
   ]
  },
  {
   "cell_type": "code",
   "execution_count": null,
   "id": "dc593e53-316e-4b04-8e72-9ed16b183077",
   "metadata": {},
   "outputs": [],
   "source": [
    "Consider that we have two objects which are a physical representation of a class (user-defined data type) and we have to add two objects with binary '+' operator it throws an error, because compiler don't know how to add two objects. So we define a method for an operator and that process is called operator overloading."
   ]
  },
  {
   "cell_type": "code",
   "execution_count": null,
   "id": "26a72271-9f56-46eb-9a1b-c4441e5b2580",
   "metadata": {},
   "outputs": [],
   "source": [
    "Q8. What is the most popular form of operator overloading?"
   ]
  },
  {
   "cell_type": "code",
   "execution_count": null,
   "id": "179e1cb3-a7e1-468a-8f77-51f9985bc86c",
   "metadata": {},
   "outputs": [],
   "source": [
    "Python. Operator Overloading means giving extended meaning beyond their predefined operational meaning. For example operator + is used to add two integers as well as join two strings and merge two lists. It is achievable because '+' operator is overloaded by int class and str class."
   ]
  },
  {
   "cell_type": "code",
   "execution_count": null,
   "id": "fa2ade5b-305a-4bb3-b70d-6b44cb537e60",
   "metadata": {},
   "outputs": [],
   "source": [
    "'+' is for concatenating and combining two different strings."
   ]
  },
  {
   "cell_type": "code",
   "execution_count": null,
   "id": "0cb94b1d-3e0c-412f-a362-96cf8c9b89bb",
   "metadata": {},
   "outputs": [],
   "source": [
    "Q9. What are the two most important concepts to grasp in order to comprehend Python OOP code?"
   ]
  },
  {
   "cell_type": "code",
   "execution_count": null,
   "id": "23911274-c7cf-419c-a94d-0ec0a310c2df",
   "metadata": {},
   "outputs": [],
   "source": [
    "Both inheritance and polymorphism are fundamental concepts of object oriented programming. \n",
    "These concepts help us to create code that can be extended and easily maintainable."
   ]
  },
  {
   "cell_type": "code",
   "execution_count": null,
   "id": "3cf86cae-b056-45d2-9ea7-07c0fd3e3d62",
   "metadata": {},
   "outputs": [],
   "source": []
  }
 ],
 "metadata": {
  "kernelspec": {
   "display_name": "Python 3 (ipykernel)",
   "language": "python",
   "name": "python3"
  },
  "language_info": {
   "codemirror_mode": {
    "name": "ipython",
    "version": 3
   },
   "file_extension": ".py",
   "mimetype": "text/x-python",
   "name": "python",
   "nbconvert_exporter": "python",
   "pygments_lexer": "ipython3",
   "version": "3.10.6"
  }
 },
 "nbformat": 4,
 "nbformat_minor": 5
}
